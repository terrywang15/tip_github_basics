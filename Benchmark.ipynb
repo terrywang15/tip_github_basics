{
 "cells": [
  {
   "cell_type": "markdown",
   "metadata": {},
   "source": [
    "Your goal is to predict the binary class <b>heart_disease_present</b>, which represents whether or not a patient has heart disease:\n",
    "\n",
    " - 0 represents no heart disease present\n",
    " - 1 represents heart disease present\n",
    "\n",
    "Performance is evaluated according to <b>binary log loss.</b>"
   ]
  },
  {
   "cell_type": "code",
   "execution_count": 1,
   "metadata": {},
   "outputs": [
    {
     "data": {
      "text/html": [
       "<style>.container { width:100% !important; }</style>"
      ],
      "text/plain": [
       "<IPython.core.display.HTML object>"
      ]
     },
     "metadata": {},
     "output_type": "display_data"
    }
   ],
   "source": [
    "# Put these at the top of every notebook, to get automatic reloading and inline plotting\n",
    "import pandas as pd\n",
    "from IPython.core.display import display, HTML\n",
    "# %matplotlib notebook\n",
    "# %matplotlib notebook\n",
    "import matplotlib.pyplot as plt\n",
    "# %matplotlib notebook\n",
    "# %matplotlib notebook\n",
    "import warnings\n",
    "warnings.filterwarnings('ignore')\n",
    "\n",
    "%reload_ext autoreload\n",
    "%autoreload 2\n",
    "%matplotlib inline\n",
    "\n",
    "pd.set_option('display.max_rows', 800)\n",
    "pd.set_option('display.max_columns', 500)\n",
    "pd.set_option('display.width', 1000)\n",
    "pd.set_option('display.max_colwidth', 100)\n",
    "\n",
    "display(HTML(\"<style>.container { width:100% !important; }</style>\"))\n",
    "\n",
    "import warnings\n",
    "warnings.filterwarnings('ignore')\n",
    "\n",
    "import os, glob\n",
    "import cv2\n",
    "import dlib\n",
    "import pandas as pd\n",
    "import numpy as np\n",
    "from scipy.spatial.distance import cdist, euclidean\n",
    "from scipy import stats\n",
    "import sklearn\n",
    "import matplotlib.pyplot as plt\n",
    "import seaborn as sns\n",
    "sns.set(style='whitegrid')\n",
    "\n",
    "from skimage.feature import greycomatrix, greycoprops\n",
    "from skimage.measure import shannon_entropy\n",
    "from sklearn.model_selection import train_test_split\n",
    "# import the necessary packages\n",
    "from skimage import feature, io, color\n",
    "from scipy.stats import moment, describe\n",
    "from sklearn.manifold import TSNE\n",
    "from sklearn.cluster import DBSCAN\n",
    "from sklearn.preprocessing import StandardScaler\n",
    "from sklearn.model_selection import cross_val_score\n",
    "\n",
    "from sklearn.linear_model import LinearRegression, Ridge, Lasso\n",
    "from sklearn.metrics import mean_squared_error as MSE\n",
    "from sklearn.metrics import log_loss\n",
    "from sklearn.ensemble import RandomForestRegressor, RandomForestClassifier\n",
    "from sklearn.model_selection import GridSearchCV\n",
    "\n",
    "import statsmodels.formula.api as smfapi\n",
    "import statsmodels.api as smapi\n",
    "from scipy.stats import f as f_test\n",
    "\n",
    "from Utils.DataUtils import *\n",
    "from Utils.UtilsViz import *\n",
    "\n",
    "\n",
    "import warnings\n",
    "warnings.filterwarnings('ignore')\n",
    "\n",
    "from imblearn.over_sampling import SMOTE"
   ]
  },
  {
   "cell_type": "code",
   "execution_count": 22,
   "metadata": {},
   "outputs": [],
   "source": [
    "train_features = pd.read_csv(\"./data/train_values.csv\")\n",
    "train_labels = pd.read_csv(\"./data/train_labels.csv\")\n",
    "test_features = pd.read_csv(\"./data/test_values.csv\")"
   ]
  },
  {
   "cell_type": "code",
   "execution_count": 23,
   "metadata": {},
   "outputs": [],
   "source": [
    "data = pd.merge(train_features, train_labels)"
   ]
  },
  {
   "cell_type": "code",
   "execution_count": 4,
   "metadata": {},
   "outputs": [
    {
     "data": {
      "text/html": [
       "<div>\n",
       "<style scoped>\n",
       "    .dataframe tbody tr th:only-of-type {\n",
       "        vertical-align: middle;\n",
       "    }\n",
       "\n",
       "    .dataframe tbody tr th {\n",
       "        vertical-align: top;\n",
       "    }\n",
       "\n",
       "    .dataframe thead th {\n",
       "        text-align: right;\n",
       "    }\n",
       "</style>\n",
       "<table border=\"1\" class=\"dataframe\">\n",
       "  <thead>\n",
       "    <tr style=\"text-align: right;\">\n",
       "      <th></th>\n",
       "      <th>patient_id</th>\n",
       "      <th>slope_of_peak_exercise_st_segment</th>\n",
       "      <th>thal</th>\n",
       "      <th>resting_blood_pressure</th>\n",
       "      <th>chest_pain_type</th>\n",
       "      <th>num_major_vessels</th>\n",
       "      <th>fasting_blood_sugar_gt_120_mg_per_dl</th>\n",
       "      <th>resting_ekg_results</th>\n",
       "      <th>serum_cholesterol_mg_per_dl</th>\n",
       "      <th>oldpeak_eq_st_depression</th>\n",
       "      <th>sex</th>\n",
       "      <th>age</th>\n",
       "      <th>max_heart_rate_achieved</th>\n",
       "      <th>exercise_induced_angina</th>\n",
       "      <th>heart_disease_present</th>\n",
       "    </tr>\n",
       "  </thead>\n",
       "  <tbody>\n",
       "    <tr>\n",
       "      <th>0</th>\n",
       "      <td>0z64un</td>\n",
       "      <td>1</td>\n",
       "      <td>normal</td>\n",
       "      <td>128</td>\n",
       "      <td>2</td>\n",
       "      <td>0</td>\n",
       "      <td>0</td>\n",
       "      <td>2</td>\n",
       "      <td>308</td>\n",
       "      <td>0.0</td>\n",
       "      <td>1</td>\n",
       "      <td>45</td>\n",
       "      <td>170</td>\n",
       "      <td>0</td>\n",
       "      <td>0</td>\n",
       "    </tr>\n",
       "    <tr>\n",
       "      <th>1</th>\n",
       "      <td>ryoo3j</td>\n",
       "      <td>2</td>\n",
       "      <td>normal</td>\n",
       "      <td>110</td>\n",
       "      <td>3</td>\n",
       "      <td>0</td>\n",
       "      <td>0</td>\n",
       "      <td>0</td>\n",
       "      <td>214</td>\n",
       "      <td>1.6</td>\n",
       "      <td>0</td>\n",
       "      <td>54</td>\n",
       "      <td>158</td>\n",
       "      <td>0</td>\n",
       "      <td>0</td>\n",
       "    </tr>\n",
       "    <tr>\n",
       "      <th>2</th>\n",
       "      <td>yt1s1x</td>\n",
       "      <td>1</td>\n",
       "      <td>normal</td>\n",
       "      <td>125</td>\n",
       "      <td>4</td>\n",
       "      <td>3</td>\n",
       "      <td>0</td>\n",
       "      <td>2</td>\n",
       "      <td>304</td>\n",
       "      <td>0.0</td>\n",
       "      <td>1</td>\n",
       "      <td>77</td>\n",
       "      <td>162</td>\n",
       "      <td>1</td>\n",
       "      <td>1</td>\n",
       "    </tr>\n",
       "    <tr>\n",
       "      <th>3</th>\n",
       "      <td>l2xjde</td>\n",
       "      <td>1</td>\n",
       "      <td>reversible_defect</td>\n",
       "      <td>152</td>\n",
       "      <td>4</td>\n",
       "      <td>0</td>\n",
       "      <td>0</td>\n",
       "      <td>0</td>\n",
       "      <td>223</td>\n",
       "      <td>0.0</td>\n",
       "      <td>1</td>\n",
       "      <td>40</td>\n",
       "      <td>181</td>\n",
       "      <td>0</td>\n",
       "      <td>1</td>\n",
       "    </tr>\n",
       "    <tr>\n",
       "      <th>4</th>\n",
       "      <td>oyt4ek</td>\n",
       "      <td>3</td>\n",
       "      <td>reversible_defect</td>\n",
       "      <td>178</td>\n",
       "      <td>1</td>\n",
       "      <td>0</td>\n",
       "      <td>0</td>\n",
       "      <td>2</td>\n",
       "      <td>270</td>\n",
       "      <td>4.2</td>\n",
       "      <td>1</td>\n",
       "      <td>59</td>\n",
       "      <td>145</td>\n",
       "      <td>0</td>\n",
       "      <td>0</td>\n",
       "    </tr>\n",
       "  </tbody>\n",
       "</table>\n",
       "</div>"
      ],
      "text/plain": [
       "  patient_id  slope_of_peak_exercise_st_segment               thal  resting_blood_pressure  chest_pain_type  num_major_vessels  fasting_blood_sugar_gt_120_mg_per_dl  resting_ekg_results  serum_cholesterol_mg_per_dl  oldpeak_eq_st_depression  sex  age  max_heart_rate_achieved  exercise_induced_angina  heart_disease_present\n",
       "0     0z64un                                  1             normal                     128                2                  0                                     0                    2                          308                       0.0    1   45                      170                        0                      0\n",
       "1     ryoo3j                                  2             normal                     110                3                  0                                     0                    0                          214                       1.6    0   54                      158                        0                      0\n",
       "2     yt1s1x                                  1             normal                     125                4                  3                                     0                    2                          304                       0.0    1   77                      162                        1                      1\n",
       "3     l2xjde                                  1  reversible_defect                     152                4                  0                                     0                    0                          223                       0.0    1   40                      181                        0                      1\n",
       "4     oyt4ek                                  3  reversible_defect                     178                1                  0                                     0                    2                          270                       4.2    1   59                      145                        0                      0"
      ]
     },
     "metadata": {},
     "output_type": "display_data"
    },
    {
     "data": {
      "text/plain": [
       "(180, 15)"
      ]
     },
     "metadata": {},
     "output_type": "display_data"
    }
   ],
   "source": [
    "display(\n",
    "    data.head(),\n",
    "    data.shape)"
   ]
  },
  {
   "cell_type": "code",
   "execution_count": 5,
   "metadata": {},
   "outputs": [
    {
     "data": {
      "text/html": [
       "<div>\n",
       "<style scoped>\n",
       "    .dataframe tbody tr th:only-of-type {\n",
       "        vertical-align: middle;\n",
       "    }\n",
       "\n",
       "    .dataframe tbody tr th {\n",
       "        vertical-align: top;\n",
       "    }\n",
       "\n",
       "    .dataframe thead th {\n",
       "        text-align: right;\n",
       "    }\n",
       "</style>\n",
       "<table border=\"1\" class=\"dataframe\">\n",
       "  <thead>\n",
       "    <tr style=\"text-align: right;\">\n",
       "      <th></th>\n",
       "      <th>patient_id</th>\n",
       "      <th>slope_of_peak_exercise_st_segment</th>\n",
       "      <th>thal</th>\n",
       "      <th>resting_blood_pressure</th>\n",
       "      <th>chest_pain_type</th>\n",
       "      <th>num_major_vessels</th>\n",
       "      <th>fasting_blood_sugar_gt_120_mg_per_dl</th>\n",
       "      <th>resting_ekg_results</th>\n",
       "      <th>serum_cholesterol_mg_per_dl</th>\n",
       "      <th>oldpeak_eq_st_depression</th>\n",
       "      <th>sex</th>\n",
       "      <th>age</th>\n",
       "      <th>max_heart_rate_achieved</th>\n",
       "      <th>exercise_induced_angina</th>\n",
       "      <th>heart_disease_present</th>\n",
       "    </tr>\n",
       "  </thead>\n",
       "  <tbody>\n",
       "    <tr>\n",
       "      <th>total</th>\n",
       "      <td>0</td>\n",
       "      <td>0</td>\n",
       "      <td>0</td>\n",
       "      <td>0</td>\n",
       "      <td>0</td>\n",
       "      <td>0</td>\n",
       "      <td>0</td>\n",
       "      <td>0</td>\n",
       "      <td>0</td>\n",
       "      <td>0</td>\n",
       "      <td>0</td>\n",
       "      <td>0</td>\n",
       "      <td>0</td>\n",
       "      <td>0</td>\n",
       "      <td>0</td>\n",
       "    </tr>\n",
       "    <tr>\n",
       "      <th>percentage</th>\n",
       "      <td>0</td>\n",
       "      <td>0</td>\n",
       "      <td>0</td>\n",
       "      <td>0</td>\n",
       "      <td>0</td>\n",
       "      <td>0</td>\n",
       "      <td>0</td>\n",
       "      <td>0</td>\n",
       "      <td>0</td>\n",
       "      <td>0</td>\n",
       "      <td>0</td>\n",
       "      <td>0</td>\n",
       "      <td>0</td>\n",
       "      <td>0</td>\n",
       "      <td>0</td>\n",
       "    </tr>\n",
       "    <tr>\n",
       "      <th>idx_list</th>\n",
       "      <td>[]</td>\n",
       "      <td>[]</td>\n",
       "      <td>[]</td>\n",
       "      <td>[]</td>\n",
       "      <td>[]</td>\n",
       "      <td>[]</td>\n",
       "      <td>[]</td>\n",
       "      <td>[]</td>\n",
       "      <td>[]</td>\n",
       "      <td>[]</td>\n",
       "      <td>[]</td>\n",
       "      <td>[]</td>\n",
       "      <td>[]</td>\n",
       "      <td>[]</td>\n",
       "      <td>[]</td>\n",
       "    </tr>\n",
       "  </tbody>\n",
       "</table>\n",
       "</div>"
      ],
      "text/plain": [
       "           patient_id slope_of_peak_exercise_st_segment thal resting_blood_pressure chest_pain_type num_major_vessels fasting_blood_sugar_gt_120_mg_per_dl resting_ekg_results serum_cholesterol_mg_per_dl oldpeak_eq_st_depression sex age max_heart_rate_achieved exercise_induced_angina heart_disease_present\n",
       "total               0                                 0    0                      0               0                 0                                    0                   0                           0                        0   0   0                       0                       0                     0\n",
       "percentage          0                                 0    0                      0               0                 0                                    0                   0                           0                        0   0   0                       0                       0                     0\n",
       "idx_list           []                                []   []                     []              []                []                                   []                  []                          []                       []  []  []                      []                      []                    []"
      ]
     },
     "execution_count": 5,
     "metadata": {},
     "output_type": "execute_result"
    }
   ],
   "source": [
    "analyse_nans(data)"
   ]
  },
  {
   "cell_type": "code",
   "execution_count": 6,
   "metadata": {
    "scrolled": true
   },
   "outputs": [],
   "source": [
    "# sns.pairplot(data, diag_kind=\"kde\")"
   ]
  },
  {
   "cell_type": "code",
   "execution_count": 7,
   "metadata": {},
   "outputs": [
    {
     "data": {
      "text/html": [
       "<div>\n",
       "<style scoped>\n",
       "    .dataframe tbody tr th:only-of-type {\n",
       "        vertical-align: middle;\n",
       "    }\n",
       "\n",
       "    .dataframe tbody tr th {\n",
       "        vertical-align: top;\n",
       "    }\n",
       "\n",
       "    .dataframe thead th {\n",
       "        text-align: right;\n",
       "    }\n",
       "</style>\n",
       "<table border=\"1\" class=\"dataframe\">\n",
       "  <thead>\n",
       "    <tr style=\"text-align: right;\">\n",
       "      <th></th>\n",
       "      <th>patient_id</th>\n",
       "      <th>slope_of_peak_exercise_st_segment</th>\n",
       "      <th>thal</th>\n",
       "      <th>resting_blood_pressure</th>\n",
       "      <th>chest_pain_type</th>\n",
       "      <th>num_major_vessels</th>\n",
       "      <th>fasting_blood_sugar_gt_120_mg_per_dl</th>\n",
       "      <th>resting_ekg_results</th>\n",
       "      <th>serum_cholesterol_mg_per_dl</th>\n",
       "      <th>oldpeak_eq_st_depression</th>\n",
       "      <th>sex</th>\n",
       "      <th>age</th>\n",
       "      <th>max_heart_rate_achieved</th>\n",
       "      <th>exercise_induced_angina</th>\n",
       "      <th>heart_disease_present</th>\n",
       "    </tr>\n",
       "  </thead>\n",
       "  <tbody>\n",
       "    <tr>\n",
       "      <th>0</th>\n",
       "      <td>0z64un</td>\n",
       "      <td>1</td>\n",
       "      <td>normal</td>\n",
       "      <td>128</td>\n",
       "      <td>2</td>\n",
       "      <td>0</td>\n",
       "      <td>0</td>\n",
       "      <td>2</td>\n",
       "      <td>308</td>\n",
       "      <td>0.0</td>\n",
       "      <td>1</td>\n",
       "      <td>45</td>\n",
       "      <td>170</td>\n",
       "      <td>0</td>\n",
       "      <td>0</td>\n",
       "    </tr>\n",
       "    <tr>\n",
       "      <th>1</th>\n",
       "      <td>ryoo3j</td>\n",
       "      <td>2</td>\n",
       "      <td>normal</td>\n",
       "      <td>110</td>\n",
       "      <td>3</td>\n",
       "      <td>0</td>\n",
       "      <td>0</td>\n",
       "      <td>0</td>\n",
       "      <td>214</td>\n",
       "      <td>1.6</td>\n",
       "      <td>0</td>\n",
       "      <td>54</td>\n",
       "      <td>158</td>\n",
       "      <td>0</td>\n",
       "      <td>0</td>\n",
       "    </tr>\n",
       "    <tr>\n",
       "      <th>2</th>\n",
       "      <td>yt1s1x</td>\n",
       "      <td>1</td>\n",
       "      <td>normal</td>\n",
       "      <td>125</td>\n",
       "      <td>4</td>\n",
       "      <td>3</td>\n",
       "      <td>0</td>\n",
       "      <td>2</td>\n",
       "      <td>304</td>\n",
       "      <td>0.0</td>\n",
       "      <td>1</td>\n",
       "      <td>77</td>\n",
       "      <td>162</td>\n",
       "      <td>1</td>\n",
       "      <td>1</td>\n",
       "    </tr>\n",
       "    <tr>\n",
       "      <th>3</th>\n",
       "      <td>l2xjde</td>\n",
       "      <td>1</td>\n",
       "      <td>reversible_defect</td>\n",
       "      <td>152</td>\n",
       "      <td>4</td>\n",
       "      <td>0</td>\n",
       "      <td>0</td>\n",
       "      <td>0</td>\n",
       "      <td>223</td>\n",
       "      <td>0.0</td>\n",
       "      <td>1</td>\n",
       "      <td>40</td>\n",
       "      <td>181</td>\n",
       "      <td>0</td>\n",
       "      <td>1</td>\n",
       "    </tr>\n",
       "    <tr>\n",
       "      <th>4</th>\n",
       "      <td>oyt4ek</td>\n",
       "      <td>3</td>\n",
       "      <td>reversible_defect</td>\n",
       "      <td>178</td>\n",
       "      <td>1</td>\n",
       "      <td>0</td>\n",
       "      <td>0</td>\n",
       "      <td>2</td>\n",
       "      <td>270</td>\n",
       "      <td>4.2</td>\n",
       "      <td>1</td>\n",
       "      <td>59</td>\n",
       "      <td>145</td>\n",
       "      <td>0</td>\n",
       "      <td>0</td>\n",
       "    </tr>\n",
       "  </tbody>\n",
       "</table>\n",
       "</div>"
      ],
      "text/plain": [
       "  patient_id slope_of_peak_exercise_st_segment               thal  resting_blood_pressure chest_pain_type  num_major_vessels  fasting_blood_sugar_gt_120_mg_per_dl resting_ekg_results  serum_cholesterol_mg_per_dl  oldpeak_eq_st_depression sex  age  max_heart_rate_achieved exercise_induced_angina  heart_disease_present\n",
       "0     0z64un                                 1             normal                     128               2                  0                                     0                   2                          308                       0.0   1   45                      170                       0                      0\n",
       "1     ryoo3j                                 2             normal                     110               3                  0                                     0                   0                          214                       1.6   0   54                      158                       0                      0\n",
       "2     yt1s1x                                 1             normal                     125               4                  3                                     0                   2                          304                       0.0   1   77                      162                       1                      1\n",
       "3     l2xjde                                 1  reversible_defect                     152               4                  0                                     0                   0                          223                       0.0   1   40                      181                       0                      1\n",
       "4     oyt4ek                                 3  reversible_defect                     178               1                  0                                     0                   2                          270                       4.2   1   59                      145                       0                      0"
      ]
     },
     "execution_count": 7,
     "metadata": {},
     "output_type": "execute_result"
    }
   ],
   "source": [
    "cat_vars = [\"slope_of_peak_exercise_st_segment\", \"thal\", \"chest_pain_type\", \"resting_ekg_results\", \"sex\", \"exercise_induced_angina\"]\n",
    "for cv in cat_vars:\n",
    "    data[cv] = data[cv].astype(\"category\")\n",
    "data.head()"
   ]
  },
  {
   "cell_type": "code",
   "execution_count": 8,
   "metadata": {},
   "outputs": [
    {
     "data": {
      "image/png": "[encoded data removed]",
      "text/plain": [
       "<Figure size 504x504 with 2 Axes>"
      ]
     },
     "metadata": {
      "needs_background": "light"
     },
     "output_type": "display_data"
    }
   ],
   "source": [
    "f, ax = plt.subplots(1,1,figsize=(7,7))\n",
    "plot_corr_heatmap(np.round(data.corr(),2), ax=ax, annotate=True)"
   ]
  },
  {
   "cell_type": "code",
   "execution_count": 25,
   "metadata": {},
   "outputs": [],
   "source": [
    "data.to_csv(\"./data/analysis.csv\", index=False)"
   ]
  },
  {
   "cell_type": "markdown",
   "metadata": {},
   "source": [
    "------------"
   ]
  },
  {
   "cell_type": "markdown",
   "metadata": {},
   "source": [
    "------------"
   ]
  },
  {
   "cell_type": "markdown",
   "metadata": {},
   "source": [
    "------------"
   ]
  },
  {
   "cell_type": "markdown",
   "metadata": {},
   "source": [
    "#  Encoding"
   ]
  },
  {
   "cell_type": "code",
   "execution_count": 9,
   "metadata": {},
   "outputs": [
    {
     "data": {
      "text/html": [
       "<div>\n",
       "<style scoped>\n",
       "    .dataframe tbody tr th:only-of-type {\n",
       "        vertical-align: middle;\n",
       "    }\n",
       "\n",
       "    .dataframe tbody tr th {\n",
       "        vertical-align: top;\n",
       "    }\n",
       "\n",
       "    .dataframe thead th {\n",
       "        text-align: right;\n",
       "    }\n",
       "</style>\n",
       "<table border=\"1\" class=\"dataframe\">\n",
       "  <thead>\n",
       "    <tr style=\"text-align: right;\">\n",
       "      <th></th>\n",
       "      <th>patient_id</th>\n",
       "      <th>resting_blood_pressure</th>\n",
       "      <th>num_major_vessels</th>\n",
       "      <th>fasting_blood_sugar_gt_120_mg_per_dl</th>\n",
       "      <th>serum_cholesterol_mg_per_dl</th>\n",
       "      <th>oldpeak_eq_st_depression</th>\n",
       "      <th>age</th>\n",
       "      <th>max_heart_rate_achieved</th>\n",
       "      <th>heart_disease_present</th>\n",
       "      <th>slope_of_peak_exercise_st_segment_0</th>\n",
       "      <th>slope_of_peak_exercise_st_segment_1</th>\n",
       "      <th>thal_0</th>\n",
       "      <th>thal_1</th>\n",
       "      <th>chest_pain_type_0</th>\n",
       "      <th>chest_pain_type_1</th>\n",
       "      <th>chest_pain_type_2</th>\n",
       "      <th>resting_ekg_results_0</th>\n",
       "      <th>resting_ekg_results_1</th>\n",
       "      <th>sex_0</th>\n",
       "      <th>exercise_induced_angina_0</th>\n",
       "    </tr>\n",
       "  </thead>\n",
       "  <tbody>\n",
       "    <tr>\n",
       "      <th>0</th>\n",
       "      <td>0z64un</td>\n",
       "      <td>128</td>\n",
       "      <td>0</td>\n",
       "      <td>0</td>\n",
       "      <td>308</td>\n",
       "      <td>0.0</td>\n",
       "      <td>45</td>\n",
       "      <td>170</td>\n",
       "      <td>0</td>\n",
       "      <td>0.0</td>\n",
       "      <td>0.0</td>\n",
       "      <td>1.0</td>\n",
       "      <td>0.0</td>\n",
       "      <td>1.0</td>\n",
       "      <td>0.0</td>\n",
       "      <td>0.0</td>\n",
       "      <td>0.0</td>\n",
       "      <td>1.0</td>\n",
       "      <td>1.0</td>\n",
       "      <td>0.0</td>\n",
       "    </tr>\n",
       "    <tr>\n",
       "      <th>1</th>\n",
       "      <td>ryoo3j</td>\n",
       "      <td>110</td>\n",
       "      <td>0</td>\n",
       "      <td>0</td>\n",
       "      <td>214</td>\n",
       "      <td>1.6</td>\n",
       "      <td>54</td>\n",
       "      <td>158</td>\n",
       "      <td>0</td>\n",
       "      <td>1.0</td>\n",
       "      <td>0.0</td>\n",
       "      <td>1.0</td>\n",
       "      <td>0.0</td>\n",
       "      <td>0.0</td>\n",
       "      <td>1.0</td>\n",
       "      <td>0.0</td>\n",
       "      <td>0.0</td>\n",
       "      <td>0.0</td>\n",
       "      <td>0.0</td>\n",
       "      <td>0.0</td>\n",
       "    </tr>\n",
       "    <tr>\n",
       "      <th>2</th>\n",
       "      <td>yt1s1x</td>\n",
       "      <td>125</td>\n",
       "      <td>3</td>\n",
       "      <td>0</td>\n",
       "      <td>304</td>\n",
       "      <td>0.0</td>\n",
       "      <td>77</td>\n",
       "      <td>162</td>\n",
       "      <td>1</td>\n",
       "      <td>0.0</td>\n",
       "      <td>0.0</td>\n",
       "      <td>1.0</td>\n",
       "      <td>0.0</td>\n",
       "      <td>0.0</td>\n",
       "      <td>0.0</td>\n",
       "      <td>1.0</td>\n",
       "      <td>0.0</td>\n",
       "      <td>1.0</td>\n",
       "      <td>1.0</td>\n",
       "      <td>1.0</td>\n",
       "    </tr>\n",
       "    <tr>\n",
       "      <th>3</th>\n",
       "      <td>l2xjde</td>\n",
       "      <td>152</td>\n",
       "      <td>0</td>\n",
       "      <td>0</td>\n",
       "      <td>223</td>\n",
       "      <td>0.0</td>\n",
       "      <td>40</td>\n",
       "      <td>181</td>\n",
       "      <td>1</td>\n",
       "      <td>0.0</td>\n",
       "      <td>0.0</td>\n",
       "      <td>0.0</td>\n",
       "      <td>1.0</td>\n",
       "      <td>0.0</td>\n",
       "      <td>0.0</td>\n",
       "      <td>1.0</td>\n",
       "      <td>0.0</td>\n",
       "      <td>0.0</td>\n",
       "      <td>1.0</td>\n",
       "      <td>0.0</td>\n",
       "    </tr>\n",
       "    <tr>\n",
       "      <th>4</th>\n",
       "      <td>oyt4ek</td>\n",
       "      <td>178</td>\n",
       "      <td>0</td>\n",
       "      <td>0</td>\n",
       "      <td>270</td>\n",
       "      <td>4.2</td>\n",
       "      <td>59</td>\n",
       "      <td>145</td>\n",
       "      <td>0</td>\n",
       "      <td>0.0</td>\n",
       "      <td>1.0</td>\n",
       "      <td>0.0</td>\n",
       "      <td>1.0</td>\n",
       "      <td>0.0</td>\n",
       "      <td>0.0</td>\n",
       "      <td>0.0</td>\n",
       "      <td>0.0</td>\n",
       "      <td>1.0</td>\n",
       "      <td>1.0</td>\n",
       "      <td>0.0</td>\n",
       "    </tr>\n",
       "  </tbody>\n",
       "</table>\n",
       "</div>"
      ],
      "text/plain": [
       "  patient_id  resting_blood_pressure  num_major_vessels  fasting_blood_sugar_gt_120_mg_per_dl  serum_cholesterol_mg_per_dl  oldpeak_eq_st_depression  age  max_heart_rate_achieved  heart_disease_present  slope_of_peak_exercise_st_segment_0  slope_of_peak_exercise_st_segment_1  thal_0  thal_1  chest_pain_type_0  chest_pain_type_1  chest_pain_type_2  resting_ekg_results_0  resting_ekg_results_1  sex_0  exercise_induced_angina_0\n",
       "0     0z64un                     128                  0                                     0                          308                       0.0   45                      170                      0                                  0.0                                  0.0     1.0     0.0                1.0                0.0                0.0                    0.0                    1.0    1.0                        0.0\n",
       "1     ryoo3j                     110                  0                                     0                          214                       1.6   54                      158                      0                                  1.0                                  0.0     1.0     0.0                0.0                1.0                0.0                    0.0                    0.0    0.0                        0.0\n",
       "2     yt1s1x                     125                  3                                     0                          304                       0.0   77                      162                      1                                  0.0                                  0.0     1.0     0.0                0.0                0.0                1.0                    0.0                    1.0    1.0                        1.0\n",
       "3     l2xjde                     152                  0                                     0                          223                       0.0   40                      181                      1                                  0.0                                  0.0     0.0     1.0                0.0                0.0                1.0                    0.0                    0.0    1.0                        0.0\n",
       "4     oyt4ek                     178                  0                                     0                          270                       4.2   59                      145                      0                                  0.0                                  1.0     0.0     1.0                0.0                0.0                0.0                    0.0                    1.0    1.0                        0.0"
      ]
     },
     "execution_count": 9,
     "metadata": {},
     "output_type": "execute_result"
    }
   ],
   "source": [
    "data, lenc_dict = labelencode_collist(data, cat_vars)\n",
    "data, ohe_dict = onehotencode_collist(data, cat_vars)\n",
    "data.head()"
   ]
  },
  {
   "cell_type": "code",
   "execution_count": 10,
   "metadata": {},
   "outputs": [],
   "source": [
    "# Drop the patient ID\n",
    "drop_cols = [\"patient_id\"]\n",
    "for c in drop_cols:\n",
    "    if c in data.columns:\n",
    "        data.drop(labels=c, inplace=True, axis=1)"
   ]
  },
  {
   "cell_type": "code",
   "execution_count": 11,
   "metadata": {},
   "outputs": [],
   "source": [
    "ycol = [\"heart_disease_present\"]\n",
    "xcol = [c for c in data.columns if c.lower() not in ycol]"
   ]
  },
  {
   "cell_type": "markdown",
   "metadata": {},
   "source": [
    "------"
   ]
  },
  {
   "cell_type": "markdown",
   "metadata": {},
   "source": [
    "------"
   ]
  },
  {
   "cell_type": "markdown",
   "metadata": {},
   "source": [
    "------"
   ]
  },
  {
   "cell_type": "markdown",
   "metadata": {},
   "source": [
    "# Scaling"
   ]
  },
  {
   "cell_type": "code",
   "execution_count": 12,
   "metadata": {},
   "outputs": [],
   "source": [
    "data, scaler_dict = scale_collist(data, xcol)\n",
    "data = data[xcol + ycol]"
   ]
  },
  {
   "cell_type": "code",
   "execution_count": 13,
   "metadata": {},
   "outputs": [
    {
     "data": {
      "text/html": [
       "<div>\n",
       "<style scoped>\n",
       "    .dataframe tbody tr th:only-of-type {\n",
       "        vertical-align: middle;\n",
       "    }\n",
       "\n",
       "    .dataframe tbody tr th {\n",
       "        vertical-align: top;\n",
       "    }\n",
       "\n",
       "    .dataframe thead th {\n",
       "        text-align: right;\n",
       "    }\n",
       "</style>\n",
       "<table border=\"1\" class=\"dataframe\">\n",
       "  <thead>\n",
       "    <tr style=\"text-align: right;\">\n",
       "      <th></th>\n",
       "      <th>resting_blood_pressure</th>\n",
       "      <th>num_major_vessels</th>\n",
       "      <th>fasting_blood_sugar_gt_120_mg_per_dl</th>\n",
       "      <th>serum_cholesterol_mg_per_dl</th>\n",
       "      <th>oldpeak_eq_st_depression</th>\n",
       "      <th>age</th>\n",
       "      <th>max_heart_rate_achieved</th>\n",
       "      <th>slope_of_peak_exercise_st_segment_0</th>\n",
       "      <th>slope_of_peak_exercise_st_segment_1</th>\n",
       "      <th>thal_0</th>\n",
       "      <th>thal_1</th>\n",
       "      <th>chest_pain_type_0</th>\n",
       "      <th>chest_pain_type_1</th>\n",
       "      <th>chest_pain_type_2</th>\n",
       "      <th>resting_ekg_results_0</th>\n",
       "      <th>resting_ekg_results_1</th>\n",
       "      <th>sex_0</th>\n",
       "      <th>exercise_induced_angina_0</th>\n",
       "      <th>heart_disease_present</th>\n",
       "    </tr>\n",
       "  </thead>\n",
       "  <tbody>\n",
       "    <tr>\n",
       "      <th>0</th>\n",
       "      <td>-0.195195</td>\n",
       "      <td>-0.718403</td>\n",
       "      <td>-0.438238</td>\n",
       "      <td>1.118269</td>\n",
       "      <td>-0.903207</td>\n",
       "      <td>-1.053964</td>\n",
       "      <td>0.932485</td>\n",
       "      <td>-0.845154</td>\n",
       "      <td>-0.267261</td>\n",
       "      <td>0.914732</td>\n",
       "      <td>-0.835532</td>\n",
       "      <td>2.329929</td>\n",
       "      <td>-0.680746</td>\n",
       "      <td>-0.914732</td>\n",
       "      <td>-0.074744</td>\n",
       "      <td>0.956501</td>\n",
       "      <td>0.672022</td>\n",
       "      <td>-0.680746</td>\n",
       "      <td>0</td>\n",
       "    </tr>\n",
       "    <tr>\n",
       "      <th>1</th>\n",
       "      <td>-1.256320</td>\n",
       "      <td>-0.718403</td>\n",
       "      <td>-0.438238</td>\n",
       "      <td>-0.669778</td>\n",
       "      <td>0.527616</td>\n",
       "      <td>-0.087134</td>\n",
       "      <td>0.387084</td>\n",
       "      <td>1.183216</td>\n",
       "      <td>-0.267261</td>\n",
       "      <td>0.914732</td>\n",
       "      <td>-0.835532</td>\n",
       "      <td>-0.429198</td>\n",
       "      <td>1.468977</td>\n",
       "      <td>-0.914732</td>\n",
       "      <td>-0.074744</td>\n",
       "      <td>-1.045478</td>\n",
       "      <td>-1.488048</td>\n",
       "      <td>-0.680746</td>\n",
       "      <td>0</td>\n",
       "    </tr>\n",
       "    <tr>\n",
       "      <th>2</th>\n",
       "      <td>-0.372049</td>\n",
       "      <td>2.385097</td>\n",
       "      <td>-0.438238</td>\n",
       "      <td>1.042182</td>\n",
       "      <td>-0.903207</td>\n",
       "      <td>2.383654</td>\n",
       "      <td>0.568884</td>\n",
       "      <td>-0.845154</td>\n",
       "      <td>-0.267261</td>\n",
       "      <td>0.914732</td>\n",
       "      <td>-0.835532</td>\n",
       "      <td>-0.429198</td>\n",
       "      <td>-0.680746</td>\n",
       "      <td>1.093216</td>\n",
       "      <td>-0.074744</td>\n",
       "      <td>0.956501</td>\n",
       "      <td>0.672022</td>\n",
       "      <td>1.468977</td>\n",
       "      <td>1</td>\n",
       "    </tr>\n",
       "    <tr>\n",
       "      <th>3</th>\n",
       "      <td>1.219639</td>\n",
       "      <td>-0.718403</td>\n",
       "      <td>-0.438238</td>\n",
       "      <td>-0.498582</td>\n",
       "      <td>-0.903207</td>\n",
       "      <td>-1.591092</td>\n",
       "      <td>1.432436</td>\n",
       "      <td>-0.845154</td>\n",
       "      <td>-0.267261</td>\n",
       "      <td>-1.093216</td>\n",
       "      <td>1.196843</td>\n",
       "      <td>-0.429198</td>\n",
       "      <td>-0.680746</td>\n",
       "      <td>1.093216</td>\n",
       "      <td>-0.074744</td>\n",
       "      <td>-1.045478</td>\n",
       "      <td>0.672022</td>\n",
       "      <td>-0.680746</td>\n",
       "      <td>1</td>\n",
       "    </tr>\n",
       "    <tr>\n",
       "      <th>4</th>\n",
       "      <td>2.752375</td>\n",
       "      <td>-0.718403</td>\n",
       "      <td>-0.438238</td>\n",
       "      <td>0.395442</td>\n",
       "      <td>2.852703</td>\n",
       "      <td>0.449994</td>\n",
       "      <td>-0.203768</td>\n",
       "      <td>-0.845154</td>\n",
       "      <td>3.741657</td>\n",
       "      <td>-1.093216</td>\n",
       "      <td>1.196843</td>\n",
       "      <td>-0.429198</td>\n",
       "      <td>-0.680746</td>\n",
       "      <td>-0.914732</td>\n",
       "      <td>-0.074744</td>\n",
       "      <td>0.956501</td>\n",
       "      <td>0.672022</td>\n",
       "      <td>-0.680746</td>\n",
       "      <td>0</td>\n",
       "    </tr>\n",
       "  </tbody>\n",
       "</table>\n",
       "</div>"
      ],
      "text/plain": [
       "   resting_blood_pressure  num_major_vessels  fasting_blood_sugar_gt_120_mg_per_dl  serum_cholesterol_mg_per_dl  oldpeak_eq_st_depression       age  max_heart_rate_achieved  slope_of_peak_exercise_st_segment_0  slope_of_peak_exercise_st_segment_1    thal_0    thal_1  chest_pain_type_0  chest_pain_type_1  chest_pain_type_2  resting_ekg_results_0  resting_ekg_results_1     sex_0  exercise_induced_angina_0  heart_disease_present\n",
       "0               -0.195195          -0.718403                             -0.438238                     1.118269                 -0.903207 -1.053964                 0.932485                            -0.845154                            -0.267261  0.914732 -0.835532           2.329929          -0.680746          -0.914732              -0.074744               0.956501  0.672022                  -0.680746                      0\n",
       "1               -1.256320          -0.718403                             -0.438238                    -0.669778                  0.527616 -0.087134                 0.387084                             1.183216                            -0.267261  0.914732 -0.835532          -0.429198           1.468977          -0.914732              -0.074744              -1.045478 -1.488048                  -0.680746                      0\n",
       "2               -0.372049           2.385097                             -0.438238                     1.042182                 -0.903207  2.383654                 0.568884                            -0.845154                            -0.267261  0.914732 -0.835532          -0.429198          -0.680746           1.093216              -0.074744               0.956501  0.672022                   1.468977                      1\n",
       "3                1.219639          -0.718403                             -0.438238                    -0.498582                 -0.903207 -1.591092                 1.432436                            -0.845154                            -0.267261 -1.093216  1.196843          -0.429198          -0.680746           1.093216              -0.074744              -1.045478  0.672022                  -0.680746                      1\n",
       "4                2.752375          -0.718403                             -0.438238                     0.395442                  2.852703  0.449994                -0.203768                            -0.845154                             3.741657 -1.093216  1.196843          -0.429198          -0.680746          -0.914732              -0.074744               0.956501  0.672022                  -0.680746                      0"
      ]
     },
     "execution_count": 13,
     "metadata": {},
     "output_type": "execute_result"
    }
   ],
   "source": [
    "data.head()"
   ]
  },
  {
   "cell_type": "markdown",
   "metadata": {},
   "source": [
    "------------"
   ]
  },
  {
   "cell_type": "markdown",
   "metadata": {},
   "source": [
    "------------"
   ]
  },
  {
   "cell_type": "markdown",
   "metadata": {},
   "source": [
    "------------"
   ]
  },
  {
   "cell_type": "markdown",
   "metadata": {},
   "source": [
    "#  Train Test Split"
   ]
  },
  {
   "cell_type": "code",
   "execution_count": 14,
   "metadata": {},
   "outputs": [],
   "source": [
    "train_data, test_data = train_test_split(data, test_size=0.3)\n",
    "x_train = train_data[xcol].values\n",
    "y_train = train_data[ycol].values\n",
    "x_test = test_data[xcol].values\n",
    "y_test = test_data[ycol].values"
   ]
  },
  {
   "cell_type": "markdown",
   "metadata": {},
   "source": [
    "------------"
   ]
  },
  {
   "cell_type": "markdown",
   "metadata": {},
   "source": [
    "------------"
   ]
  },
  {
   "cell_type": "markdown",
   "metadata": {},
   "source": [
    "------------"
   ]
  },
  {
   "cell_type": "markdown",
   "metadata": {},
   "source": [
    "# Random Forest Classifier - Baseline"
   ]
  },
  {
   "cell_type": "code",
   "execution_count": 15,
   "metadata": {},
   "outputs": [],
   "source": [
    "rfc = RandomForestClassifier()\n",
    "rfc = rfc.fit(x_train, y_train)"
   ]
  },
  {
   "cell_type": "code",
   "execution_count": 16,
   "metadata": {},
   "outputs": [
    {
     "data": {
      "image/png": "[encoded data removed]",
      "text/plain": [
       "<Figure size 360x360 with 1 Axes>"
      ]
     },
     "metadata": {
      "needs_background": "light"
     },
     "output_type": "display_data"
    }
   ],
   "source": [
    "coeff_df = pd.DataFrame(list(zip(xcol, np.round(rfc.feature_importances_, 3))))\n",
    "coeff_df.columns = [\"colname\", \"coeff\"]\n",
    "coeff_df.sort_values(by=\"coeff\", inplace=True, ascending=False)\n",
    "f, ax = plt.subplots(1,1,figsize=(5,5))\n",
    "g = sns.barplot(y=\"colname\", x=\"coeff\", data=coeff_df, ax=ax)"
   ]
  },
  {
   "cell_type": "code",
   "execution_count": 17,
   "metadata": {},
   "outputs": [
    {
     "name": "stdout",
     "output_type": "stream",
     "text": [
      "Adjusted Rsq. : 0.9629135143153835\n",
      "Train set Log Loss: 1.10\n",
      "Test set Log Loss: 6.40\n"
     ]
    }
   ],
   "source": [
    "rsq = rfc.score(x_train, y_train)\n",
    "adjusted_r_squared = 1 - (1 - rsq)*(len(y_train)-1) /\\\n",
    "                            (len(y_train) - x_train.shape[1] - 1)\n",
    "\n",
    "print(\"Adjusted Rsq. :\", adjusted_r_squared)\n",
    "\n",
    "\n",
    "y_pred_train = rfc.predict(X=x_train)\n",
    "y_pred_test = rfc.predict(X=x_test)\n",
    "\n",
    "ll_train = log_loss(y_train, y_pred_train)\n",
    "ll_test = log_loss(y_test, y_pred_test)\n",
    "\n",
    "print(\"Train set Log Loss: {:.2f}\".format(ll_train))\n",
    "print(\"Test set Log Loss: {:.2f}\".format(ll_test))"
   ]
  },
  {
   "cell_type": "markdown",
   "metadata": {},
   "source": [
    "------------"
   ]
  },
  {
   "cell_type": "markdown",
   "metadata": {},
   "source": [
    "------------"
   ]
  },
  {
   "cell_type": "markdown",
   "metadata": {},
   "source": [
    "------------"
   ]
  },
  {
   "cell_type": "markdown",
   "metadata": {},
   "source": [
    "# RF Classifier - Grid Search"
   ]
  },
  {
   "cell_type": "code",
   "execution_count": 18,
   "metadata": {},
   "outputs": [
    {
     "name": "stdout",
     "output_type": "stream",
     "text": [
      "Fitting 5 folds for each of 800 candidates, totalling 4000 fits\n"
     ]
    },
    {
     "name": "stderr",
     "output_type": "stream",
     "text": [
      "[Parallel(n_jobs=-1)]: Using backend LokyBackend with 8 concurrent workers.\n",
      "[Parallel(n_jobs=-1)]: Done  25 tasks      | elapsed:    4.0s\n",
      "[Parallel(n_jobs=-1)]: Done 146 tasks      | elapsed:    6.5s\n",
      "[Parallel(n_jobs=-1)]: Done 349 tasks      | elapsed:   10.5s\n",
      "[Parallel(n_jobs=-1)]: Done 632 tasks      | elapsed:   16.3s\n",
      "[Parallel(n_jobs=-1)]: Done 997 tasks      | elapsed:   23.9s\n",
      "[Parallel(n_jobs=-1)]: Done 1442 tasks      | elapsed:   33.2s\n",
      "[Parallel(n_jobs=-1)]: Done 1969 tasks      | elapsed:   44.4s\n",
      "[Parallel(n_jobs=-1)]: Done 2576 tasks      | elapsed:   58.7s\n",
      "[Parallel(n_jobs=-1)]: Done 3265 tasks      | elapsed:  1.2min\n",
      "[Parallel(n_jobs=-1)]: Done 4000 out of 4000 | elapsed:  1.5min finished\n"
     ]
    }
   ],
   "source": [
    "# Create the parameter grid based on the results of random search \n",
    "param_grid = {\n",
    "    'bootstrap': [True],\n",
    "    'max_depth': list(np.arange(1,10,1))+[None],\n",
    "    'max_features': list(np.arange(0.1,0.5,0.1)),\n",
    "    'min_samples_leaf': [1, 2, 3, 4, 5],\n",
    "    'min_samples_split': list(np.arange(0.1, 0.3, 0.1)),\n",
    "    'n_estimators': [40, 50]\n",
    "}\n",
    "# Create a based model\n",
    "rfc = RandomForestClassifier()\n",
    "# Instantiate the grid search model\n",
    "grid_search = GridSearchCV(estimator = rfc, param_grid = param_grid, \n",
    "                          cv = 5, n_jobs = -1, verbose = 2)\n",
    "\n",
    "# Fit the grid search to the data\n",
    "grid_search.fit(x_train, y_train)\n",
    "\n",
    "best_grid = grid_search.best_estimator_"
   ]
  },
  {
   "cell_type": "code",
   "execution_count": 19,
   "metadata": {},
   "outputs": [
    {
     "data": {
      "image/png": "[encoded data removed]",
      "text/plain": [
       "<Figure size 360x360 with 1 Axes>"
      ]
     },
     "metadata": {
      "needs_background": "light"
     },
     "output_type": "display_data"
    }
   ],
   "source": [
    "rfc = best_grid\n",
    "coeff_df = pd.DataFrame(list(zip(xcol, np.round(rfc.feature_importances_, 3))))\n",
    "coeff_df.columns = [\"colname\", \"coeff\"]\n",
    "coeff_df.sort_values(by=\"coeff\", inplace=True, ascending=False)\n",
    "f, ax = plt.subplots(1,1,figsize=(5,5))\n",
    "g = sns.barplot(y=\"colname\", x=\"coeff\", data=coeff_df, ax=ax)"
   ]
  },
  {
   "cell_type": "code",
   "execution_count": 20,
   "metadata": {},
   "outputs": [
    {
     "name": "stdout",
     "output_type": "stream",
     "text": [
      "Adjusted Rsq. : 0.8331108144192256\n",
      "Train set Log Loss: 4.93\n",
      "Test set Log Loss: 5.76\n"
     ]
    }
   ],
   "source": [
    "rsq = rfc.score(x_train, y_train)\n",
    "adjusted_r_squared = 1 - (1 - rsq)*(len(y_train)-1) /\\\n",
    "                            (len(y_train) - x_train.shape[1] - 1)\n",
    "\n",
    "print(\"Adjusted Rsq. :\", adjusted_r_squared)\n",
    "\n",
    "\n",
    "y_pred_train = rfc.predict(X=x_train)\n",
    "y_pred_test = rfc.predict(X=x_test)\n",
    "\n",
    "ll_train = log_loss(y_train, y_pred_train)\n",
    "ll_test = log_loss(y_test, y_pred_test)\n",
    "\n",
    "print(\"Train set Log Loss: {:.2f}\".format(ll_train))\n",
    "print(\"Test set Log Loss: {:.2f}\".format(ll_test))"
   ]
  }
 ],
 "metadata": {
  "kernelspec": {
   "display_name": "Python 3",
   "language": "python",
   "name": "python3"
  },
  "language_info": {
   "codemirror_mode": {
    "name": "ipython",
    "version": 3
   },
   "file_extension": ".py",
   "mimetype": "text/x-python",
   "name": "python",
   "nbconvert_exporter": "python",
   "pygments_lexer": "ipython3",
   "version": "3.6.7"
  }
 },
 "nbformat": 4,
 "nbformat_minor": 2
}
